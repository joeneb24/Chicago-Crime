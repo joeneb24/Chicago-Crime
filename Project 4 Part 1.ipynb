{
 "cells": [
  {
   "cell_type": "code",
   "execution_count": null,
   "id": "37d15d76",
   "metadata": {},
   "outputs": [],
   "source": []
  },
  {
   "cell_type": "markdown",
   "id": "e7fc10f6",
   "metadata": {},
   "source": [
    "# 1) Comparing Police Districts:\n",
    "* Which district has the most crimes? Which has the least?"
   ]
  },
  {
   "cell_type": "markdown",
   "id": "59769490",
   "metadata": {},
   "source": [
    "# 2) Crimes Across the Years:\n",
    "* Is the total number of crimes increasing or decreasing across the years?\n",
    "* Are there any individual crimes that are doing the opposite (e.g decreasing when overall crime is increasing or vice-versa)?"
   ]
  },
  {
   "cell_type": "markdown",
   "id": "6519d1d1",
   "metadata": {},
   "source": [
    "# 4) Comparing Months:\n",
    "* What months have the most crime? What months have the least?\n",
    "* Are there any individual crimes that do not follow this pattern? If so, which crimes?"
   ]
  },
  {
   "cell_type": "code",
   "execution_count": null,
   "id": "ea63a1d0",
   "metadata": {},
   "outputs": [],
   "source": []
  }
 ],
 "metadata": {
  "kernelspec": {
   "display_name": "Python (dojo-env)",
   "language": "python",
   "name": "dojo-env"
  },
  "language_info": {
   "codemirror_mode": {
    "name": "ipython",
    "version": 3
   },
   "file_extension": ".py",
   "mimetype": "text/x-python",
   "name": "python",
   "nbconvert_exporter": "python",
   "pygments_lexer": "ipython3",
   "version": "3.9.15"
  },
  "toc": {
   "base_numbering": 1,
   "nav_menu": {},
   "number_sections": false,
   "sideBar": true,
   "skip_h1_title": false,
   "title_cell": "Table of Contents",
   "title_sidebar": "Contents",
   "toc_cell": false,
   "toc_position": {},
   "toc_section_display": true,
   "toc_window_display": false
  }
 },
 "nbformat": 4,
 "nbformat_minor": 5
}
